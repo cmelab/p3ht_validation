{
 "cells": [
  {
   "cell_type": "markdown",
   "id": "599d3274",
   "metadata": {},
   "source": [
    "# P3HT Validation"
   ]
  },
  {
   "cell_type": "code",
   "execution_count": null,
   "id": "360b7b41-9431-4c13-b8e1-1735f9fa30e9",
   "metadata": {},
   "outputs": [],
   "source": [
    "import os\n",
    "\n",
    "from cmeutils.structure import order_parameter\n",
    "from fresnel import camera, pathtrace, light\n",
    "from gixstapose.diffractometer import Diffractometer, get_angle\n",
    "from gixstapose.draw_scene import get_scene\n",
    "import gsd.hoomd\n",
    "import matplotlib.pyplot as plt\n",
    "import numpy as np\n",
    "from PIL import Image\n",
    "from planckton.utils.units import string_to_quantity, kelvin_from_reduced\n",
    "from scipy.interpolate import RectBivariateSpline\n",
    "import signac\n",
    "import unyt as u"
   ]
  },
  {
   "cell_type": "markdown",
   "id": "1f880ae5-b306-4521-b3d4-041f8dc952b9",
   "metadata": {},
   "source": [
    "In the following notebook, we will demonstrate the recreation of part a of the following figure from [Miller 2018](http://www.mdpi.com/2073-4360/10/12/1305). This figure shows the order parameter of a OPLS-UA P3HT system at different temperatures and solvent parameters ($\\epsilon_{s}$ or e_factor).\n",
    "\n",
    "![Miller 2018 figure 3](images/Miller2018_fig3.png)\n",
    "\n",
    "The order parameter is used to quantify the degree of ordering in the system by grouping structures into clusters, and then calculating the ratio of the structures in a \"large\" clusters over the total number of structures in the system.\n",
    "In the case of a P3HT polymer, the structure we use for the order parameter analysis is the thiophene moeity. The clustering criteria depends on the angle between the planes of the thiophenes and the distance between the thiophene centers. A thiophene pair must meet both clustering criteria to be considered cluster neighbors. For example, if the angle cutoff is 10° and the distance cutoff is 6Å, the image below shows a thiophene pair which does not meet the criteria (encircled and crossed in red) and another which does (encircled in green).\n",
    "\n",
    "![P3HT alignment](images/p3ht-alignment.png)\n",
    "\n",
    "For a cluster to be considered \"large\", it must contain at least 6 thiophenes.\n",
    "\n",
    "All of this analysis, from the simulations to the functions used to run the analysis itself has been redone using new tools. The goal is to show that not only can we recreate our previous work, but also the tools we've developed make this analysis more transparent, reproducible, usable, and extensible.\n",
    "\n",
    "The dataset used in this notebook was generated using [PlanckTon](https://github.com/cmelab/planckton-flow), which provides a way to easily and reproducibly interface with the [HOOMD-blue](https://hoomd-blue.readthedocs.io/en/latest/index.html) molecular dynamics engine, and [PlanckTon-flow](https://github.com/cmelab/planckton-flow), which uses [Signac](https://docs.signac.io/en/latest/) to initialize and submit simulations across the desired parameter space. The workspace with all data used in this notebook can be found [here](https://zenodo.org/record/5911940).\n",
    "\n",
    "First, assuming the tarball from the above link is unpacked in this directory, we can use signac to explore this workspace:"
   ]
  },
  {
   "cell_type": "code",
   "execution_count": null,
   "id": "513ef392-1267-4abd-afea-11c11ac84b04",
   "metadata": {},
   "outputs": [],
   "source": [
    "p = signac.get_project(\"p3ht-ua\")\n",
    "\n",
    "p.detect_schema()"
   ]
  },
  {
   "cell_type": "markdown",
   "id": "441cac85",
   "metadata": {},
   "source": [
    "The above schema shows that we are looking at a dataspace of P3HT 16-mers, at a density of 0.56 $g/cm^{3}$ at 8 different temperatures and 5 different e_factors. In order to run the order parameter analysis, there is a little bookkeeping to be done with units.\n",
    "\n",
    "PlanckTon runs its simulations in [reduced units](https://hoomd-blue.readthedocs.io/en/latest/units.html) to reduce floating point error. This means all lengths are scaled such that the largest sigma value in the non-bonded potential is equal to 1, and so on with the largest epsilon value in the non-bonded potential, and the largest particle mass.  \n",
    "\n",
    "This information is stored in the [job document](https://docs.signac.io/en/latest/jobs.html#the-job-document) and can be converted to a [unyt quantity](https://unyt.readthedocs.io/en/stable/) using the `string_to_quantity` function.\n",
    "\n",
    "In the cell below we set our angle and distance cutoffs for the order parameter analysis to 10° and 6Å scaled by the unit length of our simulation."
   ]
  },
  {
   "cell_type": "code",
   "execution_count": null,
   "id": "aa791920-7404-424e-85e8-8da4857df674",
   "metadata": {},
   "outputs": [],
   "source": [
    "for job in p:\n",
    "    if job.doc.get(\"done\"):\n",
    "        break\n",
    "        \n",
    "ref_energy = string_to_quantity(job.doc[\"ref_energy\"])\n",
    "ref_mass = string_to_quantity(job.doc[\"ref_mass\"])\n",
    "ref_distance = string_to_quantity(job.doc[\"ref_distance\"])\n",
    "print(f\"{ref_distance:.3f} {ref_mass:.2e} {ref_energy:.3f}\")\n",
    "\n",
    "r_max = float(6 * u.Angstrom / ref_distance)\n",
    "a_max = 10\n",
    "print(f\"r_max: {r_max:.2f}, a_max: {a_max}\")"
   ]
  },
  {
   "cell_type": "markdown",
   "id": "f3a7ea3c",
   "metadata": {},
   "source": [
    "In the following cell, the order parameter analysis is performed over the entire workspace. Previously, this was done using [manual indexing and was hardcoded for our P3HT input files](https://bitbucket.org/cmelab/evan_analysis_scripts/src/master/order_over_time.py). But this workflow has been updated to use [GRiTS](https://github.com/cmelab/grits) which uses [SMARTS](https://www.daylight.com/dayhtml/doc/theory/theory.smarts.html) chemical grammar to detect chemical patterns and map the particles in that pattern to a bead. The `order_parameter` function in [cmeutils](https://github.com/cmelab/cmeutils) then takes this mapping and the bead positions from GRiTS and calculates the order parameter of the last 10 frames of the trajectory."
   ]
  },
  {
   "cell_type": "code",
   "execution_count": null,
   "id": "b9edab6e-37a6-4329-9219-3e62671a31d3",
   "metadata": {},
   "outputs": [],
   "source": [
    "%%time\n",
    "\n",
    "o_dict = {}\n",
    "orders = []\n",
    "job_strs = []\n",
    "ts = []\n",
    "efs = []\n",
    "keys = []\n",
    "for (ef, kt), jobs in p.groupby([\"e_factor\", \"kT\"]):\n",
    "    for job in jobs:\n",
    "        if job.doc.get(\"done\"):\n",
    "            t_si = int(kelvin_from_reduced(kt[0],ref_energy))\n",
    "            key = (ef, t_si)\n",
    "            if key not in keys:\n",
    "                gsdfile = job.fn(\"trajectory.gsd\")\n",
    "                cg_gsdfile = job.fn(\"cg-trajectory.gsd\")\n",
    "                mapfile = job.fn(\"mapping.json\")\n",
    "                if job.doc.get(\"order\") is None:\n",
    "                    if not (exists(mapfile) and exists(cg_gsdfile)):\n",
    "                        system = CG_System(\n",
    "                            gsdfile, \n",
    "                            beads={\"_B\" : \"c1cscc1\"}, \n",
    "                            conversion_dict=amber_dict,\n",
    "                            add_hydrogens=True,\n",
    "                        )\n",
    "                        mapping = system.mapping[\"_B...c1cscc1\"]\n",
    "                        system.save_mapping(mapfile)\n",
    "                        system.save(cg_gsdfile)\n",
    "                        print(\"\\tCG_System created\")\n",
    "                    else:\n",
    "                        with open(mapfile) as f:\n",
    "                            d = json.load(f)\n",
    "                        mapping = np.stack(d[\"_B...c1cscc1\"])\n",
    "                        print(\"\\tUsing mapping\")\n",
    "                    order, _ = order_parameter(gsdfile, cg_gsdfile, mapping, r_max, a_max)\n",
    "                    order = np.mean(order)\n",
    "                    job.doc[\"order\"] = order\n",
    "                else:\n",
    "                    order = job.doc.order\n",
    "                o_dict[key] = order\n",
    "                orders.append(order)\n",
    "                keys.append(key)\n",
    "                ts.append(t_si)\n",
    "                efs.append(ef)\n",
    "                job_strs.append(str(job))"
   ]
  },
  {
   "cell_type": "markdown",
   "id": "16aaa266",
   "metadata": {},
   "source": [
    "Next we will plot the order parameter vs T and e_factor using an [interpolating function from scipy](https://docs.scipy.org/doc/scipy/reference/generated/scipy.interpolate.RectBivariateSpline.html#scipy-interpolate-rectbivariatespline)."
   ]
  },
  {
   "cell_type": "code",
   "execution_count": null,
   "id": "204c1480-4121-4be3-b583-b1340fad8838",
   "metadata": {},
   "outputs": [],
   "source": [
    "x = np.array(efs)\n",
    "y = np.array(ts)\n",
    "z = np.array(orders)\n",
    "\n",
    "ux = np.unique(x)\n",
    "uy = np.unique(y)\n",
    "uz = np.zeros((len(uy),len(ux)))\n",
    "\n",
    "# key = (ef, t_si)\n",
    "for i, xi in enumerate(ux):\n",
    "    for j, yj in enumerate(uy):\n",
    "        uz[j,i] = o_dict[(xi, yj)]\n",
    "\n",
    "f = RectBivariateSpline(uy,ux,uz)\n",
    "\n",
    "xs = np.linspace(0.2, 1.2, 15)\n",
    "ys = np.linspace(50, 700, 15)\n",
    "zs = f(ys, xs)\n",
    "\n",
    "zs[np.where(zs > 1)] = 1\n",
    "zs[np.where(zs < 0)] = 0\n",
    "\n",
    "plt.contourf(xs, ys, zs, 15, cmap=\"rainbow\", vmax=1, vmin=0)\n",
    "\n",
    "cbar = plt.colorbar(ticks=np.linspace(0, 1, 5, endpoint=True))\n",
    "cbar.ax.set_title(r\"$\\psi$\", fontsize=40, pad=20)\n",
    "\n",
    "# Show the positions of the sample points, just to have some reference\n",
    "plt.scatter(x, y, c=\"k\", marker=\"x\", s=100)\n",
    "plt.xlabel(r\"$\\epsilon_{s}$\")\n",
    "plt.ylabel(\"Temperature (K)\")\n",
    "plt.xticks(np.linspace(0.2, 1.2, 6))\n",
    "fig = plt.gcf()\n",
    "fig.set_size_inches(12, 10)\n",
    "plt.savefig(\"order_parameter.pdf\")"
   ]
  },
  {
   "cell_type": "markdown",
   "id": "778c9174",
   "metadata": {},
   "source": [
    "Even with the changes to our analysis method (using GRiTS instead of manual indexing), the forcefield (using a GAFF-UA model with flexible thiophenes instead of an OPLS-UA model with rigid thiophenes), and the clustering criteria (10° instead of 20°), the trend in the order parameter across temperature and e_factor space appears pretty robust! I have included only part a from Miller 2018 below with the plot skewed so that the bounds are the same.\n",
    "\n",
    "![Miller 2018 figure 3 part a adjusted](images/Miller2018_fig3_aonly.png)\n",
    "\n",
    "We can show that our order parameter metric is robust, but how does it relate to any physically measurable analysis? To address this question, let's look at some diffraction patterns for the highest and lowest order jobs to see if our order parameter metric is correlated with differences in the periodic structure. We'll be using [GIXStapose](https://github.com/cmelab/GIXStapose) to visualize the real space structure and its simulated diffraction pattern."
   ]
  },
  {
   "cell_type": "code",
   "execution_count": null,
   "id": "655593b9",
   "metadata": {},
   "outputs": [],
   "source": [
    "highest_order_jobs = [job_strs[orders.index(i)] for i in sorted(orders)[-3:]]\n",
    "lowest_order_jobs = [job_strs[orders.index(i)] for i in sorted(orders)[:4]]\n",
    "\n",
    "print(\"Higest order\")\n",
    "for job_id in highest_order_jobs:\n",
    "    job = p.open_job(id=job_id)\n",
    "    T_SI = int(kelvin_from_reduced(job.sp.kT[0],ref_energy))\n",
    "    print(f\"e_factor: {job.sp.e_factor}, T: {T_SI}K\")\n",
    "    print(f\"\\t{job}\")\n",
    "    \n",
    "print(\"\\n\\nLowest order\")\n",
    "for job_id in lowest_order_jobs:\n",
    "    job = p.open_job(id=job_id)\n",
    "    T_SI = int(kelvin_from_reduced(job.sp.kT[0],ref_energy))\n",
    "    print(f\"e_factor: {job.sp.e_factor}, T: {T_SI}K\")\n",
    "    print(f\"\\t{job}\")"
   ]
  },
  {
   "cell_type": "markdown",
   "id": "c9eff135-16a6-4ea9-90b6-acc392a8c8d8",
   "metadata": {},
   "source": [
    "First let's look at one of the high order jobs (e_factor: 0.4, T: 251K). We'll first visualize the centers of the thiophenes. (It is a little less busy than the atomistic sturcture and allows us to more easily see the lamellar spacing.)\n",
    "\n",
    "The camera position was chosen using the GIXStapose GUI to rotate the structure as to best see the lamellae."
   ]
  },
  {
   "cell_type": "code",
   "execution_count": null,
   "id": "359618be",
   "metadata": {},
   "outputs": [],
   "source": [
    "job = p.open_job(id='16db9573e2e2c6a027abad40cf87733e')\n",
    "cg_gsd = job.fn(\"cg-trajectory.gsd\")\n",
    "scene, info = get_scene(cg_gsd, color={\"_B\": \"lightblue\"}, scale=ref_distance)\n",
    "cam = camera.Orthographic(\n",
    "    position = [8.133, 5.203, 43.865],\n",
    "    look_at =  [0.000, 0.000, 0.000],\n",
    "    up =       [0.900, 0.424, -0.101],\n",
    "    height =   31.896\n",
    ")\n",
    "scene.camera = cam\n",
    "\n",
    "scene.geometry[0].radius[:] *= 3\n",
    "\n",
    "output = pathtrace(scene, light_samples=40, w=600, h=600)\n",
    "\n",
    "image = Image.fromarray(output[:], mode=\"RGBA\")\n",
    "image.save(\"cg-trajectory_scene.png\")\n",
    "\n",
    "output"
   ]
  },
  {
   "cell_type": "markdown",
   "id": "8133d36f",
   "metadata": {},
   "source": [
    "We can see that this high order structure has clear repeated planes of thiophenes, even within these planes there appears to be some ordering most likely due to pi orbital overlap in the thiophenes. Let's look at the diffraction pattern of this view:"
   ]
  },
  {
   "cell_type": "code",
   "execution_count": null,
   "id": "4843cbb5",
   "metadata": {},
   "outputs": [],
   "source": [
    "d = Diffractometer(length_scale=float(ref_distance))\n",
    "d.load(info[\"positions\"], info[\"box\"][:3])\n",
    "d.diffract_from_camera(cam)\n",
    "d.plot()\n",
    "y_min, y_max = ax.get_ylim()\n",
    "ax.set_ylim((-0.01, y_max))\n",
    "plt.show()"
   ]
  },
  {
   "cell_type": "markdown",
   "id": "2d6579b1",
   "metadata": {},
   "source": [
    "In this view, we can see bright peaks in the $q_{yy}$-direction corresponding to the lamellar spacing. The pi-stacking can also faintly be seen in the $q_{xx}$-direction. We can label these peaks with their distance from the origin using the interactive PeakLabeller class provided in GIXStapose. (To see a demo of how to use this class check out the [GIXStapose example](https://github.com/cmelab/GIXStapose/blob/master/examples/Figure_Example.ipynb).)\n",
    "\n",
    "![labelled peaks](images/resize_labelled_peaks.png)\n",
    "\n",
    "These peaks correspond to periodic distances of 17.24 Å and 3.61 Å which is in the right ballpark for P3HT:\n",
    "[Duong 2013](https://www.sciencedirect.com/science/article/pii/S1566119913000840?via%3Dihub) reports a lamellar spacing of 16.5 Å and a pi-stacking spacing of 3.83 Å for neat P3HT.\n",
    "\n",
    "In the next cell, we'll visualize the overlay of the coarse grain structure with the atomistic one:"
   ]
  },
  {
   "cell_type": "code",
   "execution_count": null,
   "id": "ef2943f1",
   "metadata": {},
   "outputs": [],
   "source": [
    "ua_gsd = job.fn(\"trajectory.gsd\")\n",
    "ua_scene, _ = get_scene(\n",
    "    ua_gsd, \n",
    "    color={'c3': \"grey\", 'cc': \"grey\", 'cd': \"grey\", 'ss': \"yellow\"}, \n",
    "    scale=ref_distance,\n",
    "    scene=scene\n",
    ")\n",
    "\n",
    "ua_scene.camera = cam\n",
    "\n",
    "ua_scene.geometry[0].material.spec_trans = 0.5\n",
    "\n",
    "ua_scene.lights = light.cloudy()\n",
    "\n",
    "output = pathtrace(ua_scene, light_samples=40, w=600, h=600)\n",
    "\n",
    "image = Image.fromarray(output[:], mode=\"RGBA\")\n",
    "image.save(\"cg-overlay_scene.png\")\n",
    "\n",
    "output"
   ]
  },
  {
   "cell_type": "markdown",
   "id": "8e9f1eb1",
   "metadata": {},
   "source": [
    "When we view this overlay (thiophene center beads show in translucent blue, atomistic carbons in grey and sulfur in yellow), it becomes more clear that this lamellar spacing is due to the regions with the alkyl tails interacting.\n",
    "\n",
    "Finally let's look at one of the low order jobs (e_factor: 0.2, T: 629K):"
   ]
  },
  {
   "cell_type": "code",
   "execution_count": null,
   "id": "fd2d1e97",
   "metadata": {},
   "outputs": [],
   "source": [
    "job = p.open_job(id='c0fd30e6247f95e9c26984ec5f24d99e')\n",
    "cg_gsd = job.fn(\"cg-trajectory.gsd\")\n",
    "scene, info = get_scene(cg_gsd, color={\"_B\": \"lightblue\"}, scale=ref_distance)\n",
    "\n",
    "scene.geometry[0].radius[:] *= 3\n",
    "\n",
    "output = pathtrace(scene, light_samples=40, w=600, h=600)\n",
    "\n",
    "image = Image.fromarray(output[:], mode=\"RGBA\")\n",
    "image.save(\"cg-trajectory-amorphous_scene.png\")\n",
    "\n",
    "output"
   ]
  },
  {
   "cell_type": "markdown",
   "id": "13bd7a04",
   "metadata": {},
   "source": [
    "This view shows that the packing looks basically random.\n",
    "\n",
    "And we can confirm this by examing the diffraction pattern:"
   ]
  },
  {
   "cell_type": "code",
   "execution_count": null,
   "id": "56aee238",
   "metadata": {},
   "outputs": [],
   "source": [
    "d = Diffractometer(length_scale=float(ref_distance))\n",
    "d.load(info[\"positions\"], info[\"box\"][:3])\n",
    "d.diffract_from_camera(cam)\n",
    "d.plot()\n",
    "y_min, y_max = ax.get_ylim()\n",
    "ax.set_ylim((-0.01, y_max))\n",
    "plt.show()"
   ]
  },
  {
   "cell_type": "markdown",
   "id": "271aaf7e",
   "metadata": {},
   "source": [
    "The general lack of peaks suggests that there are few periodic features to be found.\n",
    "\n",
    "In conclusion, this analysis has shown that we can reproduce our prior work with updated tools, the order parameter metric is robust across different forcefields and relates to the prominence of peaks in the diffraction pattern."
   ]
  },
  {
   "cell_type": "code",
   "execution_count": null,
   "id": "8196e20e",
   "metadata": {},
   "outputs": [],
   "source": []
  }
 ],
 "metadata": {
  "kernelspec": {
   "display_name": "Python 3 (ipykernel)",
   "language": "python",
   "name": "python3"
  },
  "language_info": {
   "codemirror_mode": {
    "name": "ipython",
    "version": 3
   },
   "file_extension": ".py",
   "mimetype": "text/x-python",
   "name": "python",
   "nbconvert_exporter": "python",
   "pygments_lexer": "ipython3",
   "version": "3.8.12"
  }
 },
 "nbformat": 4,
 "nbformat_minor": 5
}
